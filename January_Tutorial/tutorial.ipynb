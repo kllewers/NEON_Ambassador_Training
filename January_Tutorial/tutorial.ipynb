{
 "cells": [
  {
   "cell_type": "code",
   "execution_count": 2,
   "metadata": {},
   "outputs": [
    {
     "name": "stderr",
     "output_type": "stream",
     "text": [
      "/Users/kitlewers/NEON_Ambassador_Training/env/lib/python3.9/site-packages/urllib3/__init__.py:35: NotOpenSSLWarning: urllib3 v2 only supports OpenSSL 1.1.1+, currently the 'ssl' module is compiled with 'LibreSSL 2.8.3'. See: https://github.com/urllib3/urllib3/issues/3020\n",
      "  warnings.warn(\n"
     ]
    }
   ],
   "source": [
    "import os\n",
    "import requests\n",
    "import numpy as np\n",
    "import h5py\n",
    "from osgeo import gdal\n",
    "import matplotlib.pyplot as plt"
   ]
  },
  {
   "cell_type": "code",
   "execution_count": 3,
   "metadata": {},
   "outputs": [
    {
     "data": {
      "text/plain": [
       "['NEON_D02_SERC_DP3_368000_4306000_reflectance.h5']"
      ]
     },
     "execution_count": 3,
     "metadata": {},
     "output_type": "execute_result"
    }
   ],
   "source": [
    "# display the contents in the ./data folder to confirm the download completed\n",
    "os.listdir('/Users/kitlewers/NEON_Ambassador_Training/January_Tutorial/data')"
   ]
  },
  {
   "cell_type": "code",
   "execution_count": 4,
   "metadata": {},
   "outputs": [],
   "source": [
    "f = h5py.File('/Users/kitlewers/NEON_Ambassador_Training/January_Tutorial/data/NEON_D02_SERC_DP3_368000_4306000_reflectance.h5','r')"
   ]
  },
  {
   "cell_type": "code",
   "execution_count": 5,
   "metadata": {},
   "outputs": [
    {
     "name": "stdout",
     "output_type": "stream",
     "text": [
      "SERC/Reflectance/Metadata/Ancillary_Imagery/Aerosol_Optical_Depth\n",
      "SERC/Reflectance/Metadata/Ancillary_Imagery/Aspect\n",
      "SERC/Reflectance/Metadata/Ancillary_Imagery/Cast_Shadow\n",
      "SERC/Reflectance/Metadata/Ancillary_Imagery/Dark_Dense_Vegetation_Classification\n",
      "SERC/Reflectance/Metadata/Ancillary_Imagery/Data_Selection_Index\n",
      "SERC/Reflectance/Metadata/Ancillary_Imagery/Haze_Cloud_Water_Map\n",
      "SERC/Reflectance/Metadata/Ancillary_Imagery/Illumination_Factor\n",
      "SERC/Reflectance/Metadata/Ancillary_Imagery/Path_Length\n",
      "SERC/Reflectance/Metadata/Ancillary_Imagery/Sky_View_Factor\n",
      "SERC/Reflectance/Metadata/Ancillary_Imagery/Slope\n",
      "SERC/Reflectance/Metadata/Ancillary_Imagery/Smooth_Surface_Elevation\n",
      "SERC/Reflectance/Metadata/Ancillary_Imagery/Visibility_Index_Map\n",
      "SERC/Reflectance/Metadata/Ancillary_Imagery/Water_Vapor_Column\n",
      "SERC/Reflectance/Metadata/Ancillary_Imagery/Weather_Quality_Indicator\n",
      "SERC/Reflectance/Metadata/Coordinate_System/Coordinate_System_String\n",
      "SERC/Reflectance/Metadata/Coordinate_System/EPSG Code\n",
      "SERC/Reflectance/Metadata/Coordinate_System/Map_Info\n",
      "SERC/Reflectance/Metadata/Coordinate_System/Proj4\n",
      "SERC/Reflectance/Metadata/Logs/150649/ATCOR_Input_file\n",
      "SERC/Reflectance/Metadata/Logs/150649/ATCOR_Processing_Log\n",
      "SERC/Reflectance/Metadata/Logs/150649/Shadow_Processing_Log\n",
      "SERC/Reflectance/Metadata/Logs/150649/Skyview_Processing_Log\n",
      "SERC/Reflectance/Metadata/Logs/150649/Solar_Azimuth_Angle\n",
      "SERC/Reflectance/Metadata/Logs/150649/Solar_Zenith_Angle\n",
      "SERC/Reflectance/Metadata/Logs/151125/ATCOR_Input_file\n",
      "SERC/Reflectance/Metadata/Logs/151125/ATCOR_Processing_Log\n",
      "SERC/Reflectance/Metadata/Logs/151125/Shadow_Processing_Log\n",
      "SERC/Reflectance/Metadata/Logs/151125/Skyview_Processing_Log\n",
      "SERC/Reflectance/Metadata/Logs/151125/Solar_Azimuth_Angle\n",
      "SERC/Reflectance/Metadata/Logs/151125/Solar_Zenith_Angle\n",
      "SERC/Reflectance/Metadata/Logs/151614/ATCOR_Input_file\n",
      "SERC/Reflectance/Metadata/Logs/151614/ATCOR_Processing_Log\n",
      "SERC/Reflectance/Metadata/Logs/151614/Shadow_Processing_Log\n",
      "SERC/Reflectance/Metadata/Logs/151614/Skyview_Processing_Log\n",
      "SERC/Reflectance/Metadata/Logs/151614/Solar_Azimuth_Angle\n",
      "SERC/Reflectance/Metadata/Logs/151614/Solar_Zenith_Angle\n",
      "SERC/Reflectance/Metadata/Spectral_Data/FWHM\n",
      "SERC/Reflectance/Metadata/Spectral_Data/Wavelength\n",
      "SERC/Reflectance/Metadata/to-sensor_azimuth_angle\n",
      "SERC/Reflectance/Metadata/to-sensor_zenith_angle\n",
      "SERC/Reflectance/Reflectance_Data\n"
     ]
    }
   ],
   "source": [
    "#list_dataset lists the names of datasets in an hdf5 file\n",
    "def list_dataset(name,node):\n",
    "    if isinstance(node, h5py.Dataset):\n",
    "        print(name)\n",
    "\n",
    "f.visititems(list_dataset)"
   ]
  },
  {
   "cell_type": "code",
   "execution_count": 6,
   "metadata": {},
   "outputs": [],
   "source": [
    "#ls_dataset displays the name, shape, and type of datasets in hdf5 file\n",
    "def ls_dataset(name,node):\n",
    "    if isinstance(node, h5py.Dataset):\n",
    "        print(node)"
   ]
  },
  {
   "cell_type": "code",
   "execution_count": 7,
   "metadata": {},
   "outputs": [
    {
     "name": "stdout",
     "output_type": "stream",
     "text": [
      "<HDF5 dataset \"Aerosol_Optical_Depth\": shape (1000, 1000), type \"<i2\">\n",
      "<HDF5 dataset \"Aspect\": shape (1000, 1000), type \"<f4\">\n",
      "<HDF5 dataset \"Cast_Shadow\": shape (1000, 1000), type \"|u1\">\n",
      "<HDF5 dataset \"Dark_Dense_Vegetation_Classification\": shape (1000, 1000), type \"|u1\">\n",
      "<HDF5 dataset \"Data_Selection_Index\": shape (1000, 1000), type \"<i4\">\n",
      "<HDF5 dataset \"Haze_Cloud_Water_Map\": shape (1000, 1000), type \"|u1\">\n",
      "<HDF5 dataset \"Illumination_Factor\": shape (1000, 1000), type \"|u1\">\n",
      "<HDF5 dataset \"Path_Length\": shape (1000, 1000), type \"<f4\">\n",
      "<HDF5 dataset \"Sky_View_Factor\": shape (1000, 1000), type \"|u1\">\n",
      "<HDF5 dataset \"Slope\": shape (1000, 1000), type \"<f4\">\n",
      "<HDF5 dataset \"Smooth_Surface_Elevation\": shape (1000, 1000), type \"<f4\">\n",
      "<HDF5 dataset \"Visibility_Index_Map\": shape (1000, 1000), type \"|u1\">\n",
      "<HDF5 dataset \"Water_Vapor_Column\": shape (1000, 1000), type \"<f4\">\n",
      "<HDF5 dataset \"Weather_Quality_Indicator\": shape (1000, 1000, 3), type \"|u1\">\n",
      "<HDF5 dataset \"Coordinate_System_String\": shape (), type \"|O\">\n",
      "<HDF5 dataset \"EPSG Code\": shape (), type \"|O\">\n",
      "<HDF5 dataset \"Map_Info\": shape (), type \"|O\">\n",
      "<HDF5 dataset \"Proj4\": shape (), type \"|O\">\n",
      "<HDF5 dataset \"ATCOR_Input_file\": shape (), type \"|O\">\n",
      "<HDF5 dataset \"ATCOR_Processing_Log\": shape (), type \"|O\">\n",
      "<HDF5 dataset \"Shadow_Processing_Log\": shape (), type \"|O\">\n",
      "<HDF5 dataset \"Skyview_Processing_Log\": shape (), type \"|O\">\n",
      "<HDF5 dataset \"Solar_Azimuth_Angle\": shape (), type \"<f4\">\n",
      "<HDF5 dataset \"Solar_Zenith_Angle\": shape (), type \"<f4\">\n",
      "<HDF5 dataset \"ATCOR_Input_file\": shape (), type \"|O\">\n",
      "<HDF5 dataset \"ATCOR_Processing_Log\": shape (), type \"|O\">\n",
      "<HDF5 dataset \"Shadow_Processing_Log\": shape (), type \"|O\">\n",
      "<HDF5 dataset \"Skyview_Processing_Log\": shape (), type \"|O\">\n",
      "<HDF5 dataset \"Solar_Azimuth_Angle\": shape (), type \"<f4\">\n",
      "<HDF5 dataset \"Solar_Zenith_Angle\": shape (), type \"<f4\">\n",
      "<HDF5 dataset \"ATCOR_Input_file\": shape (), type \"|O\">\n",
      "<HDF5 dataset \"ATCOR_Processing_Log\": shape (), type \"|O\">\n",
      "<HDF5 dataset \"Shadow_Processing_Log\": shape (), type \"|O\">\n",
      "<HDF5 dataset \"Skyview_Processing_Log\": shape (), type \"|O\">\n",
      "<HDF5 dataset \"Solar_Azimuth_Angle\": shape (), type \"<f4\">\n",
      "<HDF5 dataset \"Solar_Zenith_Angle\": shape (), type \"<f4\">\n",
      "<HDF5 dataset \"FWHM\": shape (426,), type \"<f4\">\n",
      "<HDF5 dataset \"Wavelength\": shape (426,), type \"<f4\">\n",
      "<HDF5 dataset \"to-sensor_azimuth_angle\": shape (1000, 1000), type \"<f4\">\n",
      "<HDF5 dataset \"to-sensor_zenith_angle\": shape (1000, 1000), type \"<f4\">\n",
      "<HDF5 dataset \"Reflectance_Data\": shape (1000, 1000, 426), type \"<i2\">\n"
     ]
    }
   ],
   "source": [
    "f.visititems(ls_dataset)"
   ]
  },
  {
   "cell_type": "code",
   "execution_count": 8,
   "metadata": {},
   "outputs": [
    {
     "name": "stdout",
     "output_type": "stream",
     "text": [
      "<HDF5 group \"/SERC/Reflectance\" (2 members)>\n"
     ]
    }
   ],
   "source": [
    "serc_refl = f['SERC']['Reflectance']\n",
    "print(serc_refl)"
   ]
  }
 ],
 "metadata": {
  "kernelspec": {
   "display_name": "env",
   "language": "python",
   "name": "python3"
  },
  "language_info": {
   "codemirror_mode": {
    "name": "ipython",
    "version": 3
   },
   "file_extension": ".py",
   "mimetype": "text/x-python",
   "name": "python",
   "nbconvert_exporter": "python",
   "pygments_lexer": "ipython3",
   "version": "3.9.6"
  }
 },
 "nbformat": 4,
 "nbformat_minor": 2
}
